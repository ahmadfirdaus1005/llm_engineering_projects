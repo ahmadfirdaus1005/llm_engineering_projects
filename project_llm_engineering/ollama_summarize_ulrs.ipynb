{
 "cells": [
  {
   "cell_type": "code",
   "execution_count": 1,
   "id": "a745f5fc-7702-46b2-8209-3b4a87e15e4c",
   "metadata": {},
   "outputs": [],
   "source": [
    "# Imports\n",
    "import requests\n",
    "from bs4 import BeautifulSoup\n",
    "from IPython.display import Markdown, display\n",
    "import ollama"
   ]
  },
  {
   "cell_type": "code",
   "execution_count": 2,
   "id": "98490b31-23dc-4ab2-a4db-282a355a4d36",
   "metadata": {},
   "outputs": [],
   "source": [
    "# Constants for the Ollama API\n",
    "MODEL = \"llama3.2\""
   ]
  },
  {
   "cell_type": "code",
   "execution_count": 3,
   "id": "24a87099-e723-48e5-b07b-ad3d7f978ac3",
   "metadata": {},
   "outputs": [],
   "source": [
    "# Website class\n",
    "class Website:\n",
    "    def __init__(self, url):\n",
    "        \"\"\"\n",
    "        Create this Website object from the given URL using the BeautifulSoup library.\n",
    "        \"\"\"\n",
    "        self.url = url\n",
    "        response = requests.get(url)\n",
    "        soup = BeautifulSoup(response.content, 'html.parser')\n",
    "        self.title = soup.title.string if soup.title else \"No title found\"\n",
    "        for irrelevant in soup.body([\"script\", \"style\", \"img\", \"input\"]):\n",
    "            irrelevant.decompose()\n",
    "        self.text = soup.body.get_text(separator=\"\\n\", strip=True)"
   ]
  },
  {
   "cell_type": "code",
   "execution_count": 4,
   "id": "aa4e3fa6-c11d-4d25-b8f7-5d36b7454a1a",
   "metadata": {},
   "outputs": [],
   "source": [
    "# System prompt\n",
    "system_prompt = (\n",
    "    \"You are an assistant that analyzes the contents of a website and provides a detailed summary.\\\n",
    "    and provides a short summary, ignoring text that might be navigation related. \\\n",
    "    Respond in markdown.\"\n",
    ")"
   ]
  },
  {
   "cell_type": "code",
   "execution_count": 5,
   "id": "b54d347a-4757-407b-86e6-4f5cbe039829",
   "metadata": {},
   "outputs": [],
   "source": [
    "# Function to generate user prompt\n",
    "def user_prompt_for(website):\n",
    "    return (\n",
    "        f\"You are analyzing a website titled '{website.title}'. \"\n",
    "        \"Here is the content of the website:\\n\\n\"\n",
    "        f\"{website.text}\\n\\n\"\n",
    "        \"Please provide a detailed summary of the website, If it includes news or announcements, then summarize these too.\"\n",
    "    )"
   ]
  },
  {
   "cell_type": "code",
   "execution_count": 6,
   "id": "6bedc834-c345-44a0-abea-fd5b447186be",
   "metadata": {},
   "outputs": [],
   "source": [
    "# Function to prepare messages for the Ollama API\n",
    "def messages_for(website):\n",
    "    return [\n",
    "        {\"role\": \"system\", \"content\": system_prompt},\n",
    "        {\"role\": \"user\", \"content\": user_prompt_for(website)}\n",
    "    ]"
   ]
  },
  {
   "cell_type": "code",
   "execution_count": 7,
   "id": "9f0606c7-044d-4027-85a2-840c78a8d0ba",
   "metadata": {},
   "outputs": [],
   "source": [
    "# Summarize a single website using Ollama\n",
    "def summarize(url):\n",
    "    try:\n",
    "        website = Website(url)\n",
    "        messages = messages_for(website)\n",
    "        response = ollama.chat(model=MODEL, messages=messages)\n",
    "        return response[\"message\"][\"content\"]\n",
    "    except Exception as e:\n",
    "        return f\"Error summarizing {url}: {e}\""
   ]
  },
  {
   "cell_type": "code",
   "execution_count": 8,
   "id": "7a021d3a-37a0-4f95-9f21-24c40ca8cac1",
   "metadata": {},
   "outputs": [],
   "source": [
    "# Display summary for a single URL\n",
    "def display_summary(url):\n",
    "    summary = summarize(url)\n",
    "    display(Markdown(f\"## Summary for {url}\\n\\n{summary}\"))"
   ]
  },
  {
   "cell_type": "code",
   "execution_count": 9,
   "id": "a936c40a-5a3d-448c-b961-f6fcfe550165",
   "metadata": {},
   "outputs": [],
   "source": [
    "# Summarize multiple URLs\n",
    "def display_summaries(urls):\n",
    "    for url in urls:\n",
    "        display_summary(url)"
   ]
  },
  {
   "cell_type": "code",
   "execution_count": 10,
   "id": "08293c12-ede3-48c5-8775-5725a5ad6f15",
   "metadata": {},
   "outputs": [],
   "source": [
    "# List of URLs to summarize\n",
    "urls = [\n",
    "    \"https://edwarddonner.com\",\n",
    "    \"https://cnn.com\"\n",
    "]"
   ]
  },
  {
   "cell_type": "code",
   "execution_count": 11,
   "id": "c9587a6c-c625-4fbc-8dac-c7d279846026",
   "metadata": {},
   "outputs": [
    {
     "data": {
      "text/markdown": [
       "## Summary for https://edwarddonner.com\n",
       "\n",
       "**Detailed Summary of the Website**\n",
       "\n",
       "### Overview\n",
       "\n",
       "The website \"Home - Edward Donner\" is the personal homepage of Edward Donner, a entrepreneur and AI expert. The site provides an introduction to his work and interests in artificial intelligence (AI) and language models.\n",
       "\n",
       "### Sections\n",
       "\n",
       "#### Introduction\n",
       "\n",
       "The website starts with a brief introduction from Edward Donner himself, where he shares his passion for writing code, experimenting with LLMs, and DJing.\n",
       "\n",
       "#### About\n",
       "\n",
       "This section delves deeper into Edward's background and experience. He mentions his roles as co-founder and CTO of Nebula.io, an AI startup that uses LLMs to help people discover their potential. He also shares his previous experience as the founder and CEO of untapt, which was acquired in 2021.\n",
       "\n",
       "#### News/Announcements\n",
       "\n",
       "The website features several news announcements and resources related to Edward's work:\n",
       "\n",
       "*   **Mastering AI and LLM Engineering – Resources**: A collection of resources for learning about AI and LLM engineering.\n",
       "*   **From Software Engineer to AI Data Scientist – resources**: A list of resources for transitioning from a software engineer to an AI data scientist.\n",
       "*   **Outsmart LLM Arena – a battle of diplomacy and deviousness**: An announcement about the Outsmart LLM Arena, where LLMs compete against each other in a battle of diplomacy and deviousness.\n",
       "*   **Choosing the Right LLM: Toolkit and Resources**: A resource for choosing the right LLM and related tools.\n",
       "\n",
       "#### Contact\n",
       "\n",
       "The website includes links to Edward's social media profiles (LinkedIn, Twitter, Facebook) and his contact information. There is also a subscription form for receiving updates on his work.\n",
       "\n",
       "### Navigation\n",
       "\n",
       "The navigation menu on the left side of the webpage contains sections for \"Outsmart\", \"Posts\", and \"Get in touch\".\n",
       "\n",
       "**Short Summary**\n",
       "\n",
       "Edward Donner's website provides an overview of his background and interests in AI and LLMs. The site features news announcements, resources, and a blog section where he shares insights into AI and LLM engineering."
      ],
      "text/plain": [
       "<IPython.core.display.Markdown object>"
      ]
     },
     "metadata": {},
     "output_type": "display_data"
    },
    {
     "data": {
      "text/markdown": [
       "## Summary for https://cnn.com\n",
       "\n",
       "**Summary of the Website:**\n",
       "The CNN (Cable News Network) website is a online news portal that provides up-to-date information on current events, politics, business, sports, and entertainment. The website features a wide range of articles, videos, podcasts, and live streams from around the world. It is designed to provide viewers with unbiased and comprehensive coverage of news and events.\n",
       "\n",
       "**News and Announcements:**\n",
       "Here are some summaries of recent news and announcements on the CNN website:\n",
       "\n",
       "1. **China Hits Out at Latest US Effort to Block Beijing's Access to Chip Technology**: The Chinese government has condemned a new US effort to block Beijing's access to chip technology, calling it an \"act of economic aggression.\"\n",
       "2. **Dollar Tree May Stop Selling Some Products Because of Trump's Tariffs**: Dollar Tree may stop selling some products because of Trump's tariffs, which have led to rising costs for the company.\n",
       "3. **Trump Abruptly Swaps White House Counsel Pick Amid Internal Division**: President Trump has abruptly swapped his White House counsel pick amid internal division within the Republican Party.\n",
       "4. **North Korea, Russia and China Watch on as Crisis Unfolds in Key US Ally South Korea**: The crisis between North Korea and South Korea is ongoing, with tensions escalating between the two countries.\n",
       "5. **GM Is Struggling So Much in China, it Had to Announce Massive Charges to Fix its Business**: General Motors (GM) has announced that it will take a massive write-down on its Chinese operations due to the decline of the country's car market.\n",
       "6. **Trump's Victory Has Some Liberal Judges Reversing Their Retirement Plans**: The Supreme Court has seen some liberal judges reversing their retirement plans in response to President Trump's victory.\n",
       "7. **Mexico Makes Record Fentanyl Bust Days After Trump Tariff Threat**: Mexico has made a record fentanyl bust, days after the US threatened tariffs on Mexican goods over its handling of the opioid crisis.\n",
       "8. **Vietnamese Tycoon in a Race to Repay $9 Billion to Avoid Execution**: A Vietnamese tycoon is racing against time to repay $9 billion to avoid execution for tax evasion.\n",
       "\n",
       "**Other Articles:**\n",
       "\n",
       "1. **\"Are You More of a 'Beige Mom' than a Bright and Cheery Mom for the Holidays?\"**: This article discusses the concept of \"beige moms,\" who are more introverted and less outgoing, and how they can still have fulfilling holidays.\n",
       "2. **\"Belly Fat Linked to Signs of Alzheimer's 20 Years Before Symptoms Begin, Study Says\"**: A recent study has found that belly fat is linked to signs of Alzheimer's disease 20 years before symptoms begin.\n",
       "3. **\"Facing the Holidays Without Family Ties or the Romantic Partner of Your Dreams?\"**: This article offers tips and advice for making the holidays fulfilling even when you don't have a loving family or romantic partner.\n",
       "\n",
       "**Video Content:**\n",
       "\n",
       "1. **\"Chasing Life with Dr. Sanjay Gupta\"**: A video segment that explores the science behind various health topics.\n",
       "2. **\"The Assignment with Audie Cornish\"**: A news program that provides in-depth coverage of current events and breaking news.\n",
       "3. **\"One Thing\"**: A daily podcast that provides a summary of the top news stories from around the world.\n",
       "\n",
       "**Podcasts:**\n",
       "\n",
       "1. **\"CNN Podcasts\"**: A collection of podcasts on various topics, including politics, business, sports, and entertainment.\n",
       "2. **\"The Axe Files\"**: A podcast that features in-depth interviews with celebrities and newsmakers.\n",
       "3. **\"All There Is with Anderson Cooper\"**: A podcast that explores the intersection of news, culture, and society.\n",
       "\n",
       "Overall, the CNN website provides a wide range of content on current events, politics, business, sports, and entertainment, as well as health and wellness topics."
      ],
      "text/plain": [
       "<IPython.core.display.Markdown object>"
      ]
     },
     "metadata": {},
     "output_type": "display_data"
    }
   ],
   "source": [
    "# Run the summarization for all URLs\n",
    "display_summaries(urls)"
   ]
  },
  {
   "cell_type": "code",
   "execution_count": null,
   "id": "07587a06-b729-4228-9c81-60b572243af0",
   "metadata": {},
   "outputs": [],
   "source": []
  },
  {
   "cell_type": "code",
   "execution_count": null,
   "id": "96e065b2-e35d-4cef-8810-103abbc472d3",
   "metadata": {},
   "outputs": [],
   "source": []
  }
 ],
 "metadata": {
  "kernelspec": {
   "display_name": "Python 3 (ipykernel)",
   "language": "python",
   "name": "python3"
  },
  "language_info": {
   "codemirror_mode": {
    "name": "ipython",
    "version": 3
   },
   "file_extension": ".py",
   "mimetype": "text/x-python",
   "name": "python",
   "nbconvert_exporter": "python",
   "pygments_lexer": "ipython3",
   "version": "3.11.11"
  }
 },
 "nbformat": 4,
 "nbformat_minor": 5
}
