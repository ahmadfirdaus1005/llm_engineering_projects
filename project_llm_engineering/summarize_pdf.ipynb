{
 "cells": [
  {
   "cell_type": "code",
   "execution_count": 1,
   "id": "e8bd725c-167b-4501-b7d7-25e4096042e0",
   "metadata": {},
   "outputs": [
    {
     "name": "stdout",
     "output_type": "stream",
     "text": [
      "Collecting PyPDF2\n",
      "  Downloading pypdf2-3.0.1-py3-none-any.whl.metadata (6.8 kB)\n",
      "Downloading pypdf2-3.0.1-py3-none-any.whl (232 kB)\n",
      "Installing collected packages: PyPDF2\n",
      "Successfully installed PyPDF2-3.0.1\n"
     ]
    }
   ],
   "source": [
    "# !pip install PyPDF2"
   ]
  },
  {
   "cell_type": "code",
   "execution_count": 1,
   "id": "c8f8c5c4-6a2d-419c-8a92-5cfabcea00d3",
   "metadata": {},
   "outputs": [],
   "source": [
    "# Imports\n",
    "import os\n",
    "import requests\n",
    "from dotenv import load_dotenv\n",
    "from PyPDF2 import PdfReader\n",
    "from IPython.display import Markdown, display\n",
    "from openai import OpenAI"
   ]
  },
  {
   "cell_type": "code",
   "execution_count": 2,
   "id": "0fe7ba3b-9446-43ee-b636-6351f0fbb3fd",
   "metadata": {},
   "outputs": [],
   "source": [
    "# Load environment variables in a file called .env\n",
    "load_dotenv()\n",
    "api_key = os.getenv('OPENAI_API_KEY')"
   ]
  },
  {
   "cell_type": "code",
   "execution_count": 3,
   "id": "9adbc2a9-8366-4704-b004-d5234e06ae11",
   "metadata": {},
   "outputs": [
    {
     "name": "stdout",
     "output_type": "stream",
     "text": [
      "API key found and looks good so far!\n"
     ]
    }
   ],
   "source": [
    "# Check the key\n",
    "if not api_key:\n",
    "    print(\"No API key was found - please head over to the troubleshooting notebook in this folder to identify & fix!\")\n",
    "elif not api_key.startswith(\"sk-proj-\"):\n",
    "    print(\"An API key was found, but it doesn't start sk-proj-; please check you're using the right key - see troubleshooting notebook\")\n",
    "elif api_key.strip() != api_key:\n",
    "    print(\"An API key was found, but it looks like it might have space or tab characters at the start or end - please remove them - see troubleshooting notebook\")\n",
    "else:\n",
    "    print(\"API key found and looks good so far!\")"
   ]
  },
  {
   "cell_type": "code",
   "execution_count": 4,
   "id": "b41ab80a-bce2-4853-8dbe-2502a1fe522f",
   "metadata": {},
   "outputs": [],
   "source": [
    "# Initialize OpenAI API\n",
    "openai = OpenAI()"
   ]
  },
  {
   "cell_type": "code",
   "execution_count": 5,
   "id": "aecbe951-7273-4f51-8894-3f3bafc00d8e",
   "metadata": {},
   "outputs": [],
   "source": [
    "# System prompt\n",
    "system_prompt = (\n",
    "    \"You are an assistant that analyzes PDF documents and provides detailed summaries. \"\n",
    "    \"Your response should be concise yet comprehensive, covering the following elements: \"\n",
    "    \"problem, method, result, uniqueness, relevance, and conclusion. \"\n",
    "    \"Use a professional and formal tone throughout your response.\"\n",
    ")"
   ]
  },
  {
   "cell_type": "code",
   "execution_count": 6,
   "id": "f0910a8a-7349-4202-98a5-d2d17f6bd4cc",
   "metadata": {},
   "outputs": [],
   "source": [
    "# Function to download and save the PDF\n",
    "def download_pdf(url, save_path):\n",
    "    response = requests.get(url)\n",
    "    if response.status_code == 200:\n",
    "        with open(save_path, 'wb') as file:\n",
    "            file.write(response.content)\n",
    "        print(f\"PDF downloaded successfully: {save_path}\")\n",
    "    else:\n",
    "        raise Exception(f\"Failed to download PDF. Status code: {response.status_code}\")\n"
   ]
  },
  {
   "cell_type": "code",
   "execution_count": 7,
   "id": "8230b180-eaa4-4230-85e0-7cf18c0305f1",
   "metadata": {},
   "outputs": [],
   "source": [
    "# Function to extract text from PDF\n",
    "def extract_text_from_pdf(pdf_path):\n",
    "    reader = PdfReader(pdf_path)\n",
    "    text = \"\"\n",
    "    for page in reader.pages:\n",
    "        text += page.extract_text()\n",
    "    return text\n"
   ]
  },
  {
   "cell_type": "code",
   "execution_count": 8,
   "id": "d95c03ac-9e34-405c-99a9-646f77e0a269",
   "metadata": {},
   "outputs": [],
   "source": [
    "# Function to generate user prompt\n",
    "def user_prompt_for(pdf_text):\n",
    "    return (\n",
    "        \"You are analyzing a PDF document. Please summarize the document's content, \"\n",
    "        \"including the problem addressed, the methods used, the results obtained, \"\n",
    "        \"its uniqueness, relevance to the field, and the overall conclusion. \"\n",
    "        f\"Here is the text of the document:\\n\\n{pdf_text}\"\n",
    "    )"
   ]
  },
  {
   "cell_type": "code",
   "execution_count": 9,
   "id": "b4b2cb3c-a371-4fea-a7ac-f446cfac40f1",
   "metadata": {},
   "outputs": [],
   "source": [
    "# Summarize the PDF\n",
    "def summarize_pdf(url):\n",
    "    try:\n",
    "        # Step 1: Download the PDF\n",
    "        pdf_path = \"temp.pdf\"  # Temporary file to save the PDF\n",
    "        download_pdf(url, pdf_path)\n",
    "        \n",
    "        # Step 2: Extract text from the PDF\n",
    "        pdf_text = extract_text_from_pdf(pdf_path)\n",
    "        \n",
    "        # Step 3: Generate user prompt\n",
    "        user_prompt = user_prompt_for(pdf_text)\n",
    "        \n",
    "        # Step 4: Call OpenAI API\n",
    "        response = openai.chat.completions.create(\n",
    "            model=\"gpt-4o-mini\",\n",
    "            messages=[\n",
    "                {\"role\": \"system\", \"content\": system_prompt},\n",
    "                {\"role\": \"user\", \"content\": user_prompt}\n",
    "            ]\n",
    "        )\n",
    "        return response.choices[0].message.content\n",
    "    except Exception as e:\n",
    "        return f\"Error summarizing PDF: {e}\""
   ]
  },
  {
   "cell_type": "code",
   "execution_count": 10,
   "id": "70921127-85f0-4ee0-8afd-cd547fb7c9a5",
   "metadata": {},
   "outputs": [],
   "source": [
    "# Display the PDF summary\n",
    "def display_pdf_summary(url):\n",
    "    summary = summarize_pdf(url)\n",
    "    display(Markdown(f\"## Summary for PDF at {url}\\n\\n{summary}\"))"
   ]
  },
  {
   "cell_type": "code",
   "execution_count": 11,
   "id": "cd3406ee-b8aa-4d45-8a39-0325f5c3089d",
   "metadata": {},
   "outputs": [
    {
     "name": "stdout",
     "output_type": "stream",
     "text": [
      "PDF downloaded successfully: temp.pdf\n"
     ]
    },
    {
     "data": {
      "text/markdown": [
       "## Summary for PDF at https://www.nature.com/articles/s12276-023-01050-9.pdf\n",
       "\n",
       "**Summary of the Document: \"MicroRNA: Trends in Clinical Trials of Cancer Diagnosis and Therapy Strategies\"**\n",
       "\n",
       "**Problem Addressed:**  \n",
       "The review article addresses the significant role of microRNAs (miRNAs) in cancer, emphasizing their potential as biomarkers for diagnosis and therapeutic targets while highlighting the need for updated clinical data on their use.\n",
       "\n",
       "**Method:**  \n",
       "The authors conducted a comprehensive literature review, collating information from clinical trials and preclinical studies involving miRNAs in cancer settings. Strategies involving miRNA mimics and inhibitors were analyzed, alongside their methods of delivery and clinical application.\n",
       "\n",
       "**Results Obtained:**  \n",
       "The review provided insights into various miRNAs implicated in cancer, such as miR-34a, miR-16, miR-155, and miR-193a-3p, highlighting specific clinical trials associated with these miRNAs. For instance, the miRNA mimic MRX34 faced challenges with safety, leading to its discontinuation, whereas other trials, such as those for MRG-106 and INT-1B3, showed promising therapeutic potential.\n",
       "\n",
       "**Uniqueness:**  \n",
       "The document offers a detailed synthesis of both the existing and ongoing clinical trials, which is a crucial aspect often underrepresented in literature regarding miRNAs in cancer. It highlights the dynamic nature of miRNA functions, the evolution of therapeutic approaches, and the specificity of miRNA interactions within the cancer landscape.\n",
       "\n",
       "**Relevance to the Field:**  \n",
       "This review is highly relevant as it aligns with the growing interest in personalized medicine and the need for reliable biomarkers and therapeutic strategies in oncology. The calls for more extensive clinical trials and refined strategies for miRNA-based therapies reflect ongoing challenges and opportunities in cancer treatment.\n",
       "\n",
       "**Conclusion:**  \n",
       "The authors conclude that despite the challenges faced in early clinical trials, the substantial potential of miRNAs as both diagnostic markers and therapeutic targets in cancer remains. Advancements in synthetic RNA technologies and improved delivery systems could enhance the safety and efficacy of miRNA therapies, indicating that miRNA-focused research will likely play a pivotal role in the development of next-generation cancer treatments."
      ],
      "text/plain": [
       "<IPython.core.display.Markdown object>"
      ]
     },
     "metadata": {},
     "output_type": "display_data"
    }
   ],
   "source": [
    "# Test the function with the given PDF link\n",
    "pdf_url = \"https://www.nature.com/articles/s12276-023-01050-9.pdf\"\n",
    "display_pdf_summary(pdf_url)"
   ]
  },
  {
   "cell_type": "code",
   "execution_count": null,
   "id": "16f4990e-2cc8-4eae-bb06-656c00ef6587",
   "metadata": {},
   "outputs": [],
   "source": []
  }
 ],
 "metadata": {
  "kernelspec": {
   "display_name": "Python 3 (ipykernel)",
   "language": "python",
   "name": "python3"
  },
  "language_info": {
   "codemirror_mode": {
    "name": "ipython",
    "version": 3
   },
   "file_extension": ".py",
   "mimetype": "text/x-python",
   "name": "python",
   "nbconvert_exporter": "python",
   "pygments_lexer": "ipython3",
   "version": "3.11.11"
  }
 },
 "nbformat": 4,
 "nbformat_minor": 5
}
