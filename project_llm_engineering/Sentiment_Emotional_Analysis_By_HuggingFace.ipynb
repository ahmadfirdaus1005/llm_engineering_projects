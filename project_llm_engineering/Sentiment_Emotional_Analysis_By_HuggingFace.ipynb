{
 "cells": [
  {
   "cell_type": "markdown",
   "id": "16566ec1-d584-4da2-b2d1-ba261ee7fb4b",
   "metadata": {},
   "source": [
    "# Sentiment and Emotional Analysis by Exploring the HuggingFace High-Level API, pipelines in Google Colab."
   ]
  },
  {
   "cell_type": "markdown",
   "id": "ad02e5dc-78c4-4f8a-9842-9a42693fa7f9",
   "metadata": {},
   "source": [
    "The pipelines API in HuggingFace is only for use for inference - running a model that has already been trained.\n",
    "\n",
    "you may need to log in to the HuggingFace hub if you've not done so before.\n",
    "\n",
    "1. If you haven't already done so, create a free HuggingFace account at https://huggingface.co and navigate to Settings from the user menu on the top right. Then Create a new API token, giving yourself write permissions.\n",
    "\n",
    "### IMPORTANT \n",
    "when you create your HuggingFace API key, please be sure to select read and write permissions for your key by clicking on the WRITE tab, otherwise you may get problems later.\n",
    "\n",
    "2. Back here in colab, press the \"key\" icon on the side panel to the left, and add a new secret:\n",
    "In the name field put HF_TOKEN\n",
    "In the value field put your actual token: hf_...\n",
    "Ensure the notebook access switch is turned ON.\n",
    "\n",
    "3. Execute the cell below to log in. You'll need to do this on each of your colabs. It's a really useful way to manage your secrets without needing to type them into colab. There's also a shortcut to simply overwrite the line below with:\n",
    "hf_token = \"hf_....\"\n",
    "But this isn't a best practice, as you'd have to be careful not to share the colab. And one of the great things about colabs is that you can share them!"
   ]
  },
  {
   "cell_type": "markdown",
   "id": "0452d65c-80bb-48ea-a1bc-9feee4dbbe7b",
   "metadata": {},
   "source": [
    "Link: https://colab.research.google.com/drive/1pwt3RRXtG1siQBQ8D73jQ0pQD5MucGV6?usp=sharing "
   ]
  },
  {
   "cell_type": "markdown",
   "id": "a95e605f-16e4-4694-9af5-12c2f27070e8",
   "metadata": {},
   "source": [
    "for Hardware accelerator I used T4 GPU"
   ]
  },
  {
   "cell_type": "code",
   "execution_count": null,
   "id": "7f861613-d7fd-474f-8111-b5f364ecf400",
   "metadata": {},
   "outputs": [],
   "source": []
  }
 ],
 "metadata": {
  "kernelspec": {
   "display_name": "Python 3 (ipykernel)",
   "language": "python",
   "name": "python3"
  },
  "language_info": {
   "codemirror_mode": {
    "name": "ipython",
    "version": 3
   },
   "file_extension": ".py",
   "mimetype": "text/x-python",
   "name": "python",
   "nbconvert_exporter": "python",
   "pygments_lexer": "ipython3",
   "version": "3.11.11"
  }
 },
 "nbformat": 4,
 "nbformat_minor": 5
}
