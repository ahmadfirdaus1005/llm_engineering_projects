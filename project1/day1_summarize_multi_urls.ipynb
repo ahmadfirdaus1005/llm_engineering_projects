{
 "cells": [
  {
   "cell_type": "code",
   "execution_count": 1,
   "id": "93581657-211f-4f91-ab51-0e171b51ac39",
   "metadata": {},
   "outputs": [],
   "source": [
    "# Imports\n",
    "import os\n",
    "import requests\n",
    "from dotenv import load_dotenv\n",
    "from bs4 import BeautifulSoup\n",
    "from IPython.display import Markdown, display\n",
    "from openai import OpenAI"
   ]
  },
  {
   "cell_type": "code",
   "execution_count": 2,
   "id": "dbaa3e8a-00b9-4a0a-b6f9-314d017c00f5",
   "metadata": {},
   "outputs": [],
   "source": [
    "# Load environment variables in a file called .env\n",
    "load_dotenv()\n",
    "api_key = os.getenv('OPENAI_API_KEY')"
   ]
  },
  {
   "cell_type": "code",
   "execution_count": 3,
   "id": "6a22ca9c-4e87-4bb0-b7f2-17bbbf733b0b",
   "metadata": {},
   "outputs": [
    {
     "name": "stdout",
     "output_type": "stream",
     "text": [
      "API key found and looks good so far!\n"
     ]
    }
   ],
   "source": [
    "# Check the key\n",
    "if not api_key:\n",
    "    print(\"No API key was found - please head over to the troubleshooting notebook in this folder to identify & fix!\")\n",
    "elif not api_key.startswith(\"sk-proj-\"):\n",
    "    print(\"An API key was found, but it doesn't start sk-proj-; please check you're using the right key - see troubleshooting notebook\")\n",
    "elif api_key.strip() != api_key:\n",
    "    print(\"An API key was found, but it looks like it might have space or tab characters at the start or end - please remove them - see troubleshooting notebook\")\n",
    "else:\n",
    "    print(\"API key found and looks good so far!\")"
   ]
  },
  {
   "cell_type": "code",
   "execution_count": 4,
   "id": "90d611b3-62be-4b12-905a-deda8fe6bf21",
   "metadata": {},
   "outputs": [],
   "source": [
    "# Initialize OpenAI API\n",
    "openai = OpenAI()"
   ]
  },
  {
   "cell_type": "code",
   "execution_count": 5,
   "id": "ee9dcdb9-da6d-4958-9c19-069e0ac3e300",
   "metadata": {},
   "outputs": [],
   "source": [
    "# Website class\n",
    "class Website:\n",
    "    def __init__(self, url):\n",
    "        \"\"\"\n",
    "        Create this Website object from the given URL using the BeautifulSoup library.\n",
    "        \"\"\"\n",
    "        self.url = url\n",
    "        response = requests.get(url)\n",
    "        soup = BeautifulSoup(response.content, 'html.parser')\n",
    "        self.title = soup.title.string if soup.title else \"No title found\"\n",
    "        for irrelevant in soup.body([\"script\", \"style\", \"img\", \"input\"]):\n",
    "            irrelevant.decompose()\n",
    "        self.text = soup.body.get_text(separator=\"\\n\", strip=True)"
   ]
  },
  {
   "cell_type": "code",
   "execution_count": 6,
   "id": "2e988f9a-c631-4142-91de-ddca807569ae",
   "metadata": {},
   "outputs": [],
   "source": [
    "# System prompt\n",
    "system_prompt = \"You are an assistant that analyzes the contents of a website \\\n",
    "and provides a short summary, ignoring text that might be navigation related. \\\n",
    "Respond in markdown.\""
   ]
  },
  {
   "cell_type": "code",
   "execution_count": 7,
   "id": "4216763a-4690-469e-a4b2-222621c4a21b",
   "metadata": {},
   "outputs": [],
   "source": [
    "# Function to generate user prompt\n",
    "def user_prompt_for(website):\n",
    "    user_prompt = f\"You are looking at a website titled {website.title}\"\n",
    "    user_prompt += \"\\nThe contents of this website is as follows; \\\n",
    "please provide a short summary of this website in markdown. \\\n",
    "If it includes news or announcements, then summarize these too.\\n\\n\"\n",
    "    user_prompt += website.text\n",
    "    return user_prompt"
   ]
  },
  {
   "cell_type": "code",
   "execution_count": 8,
   "id": "fcd38a16-191b-4955-a424-8400de1cd4a1",
   "metadata": {},
   "outputs": [],
   "source": [
    "# Function to prepare messages for OpenAI API\n",
    "def messages_for(website):\n",
    "    return [\n",
    "        {\"role\": \"system\", \"content\": system_prompt},\n",
    "        {\"role\": \"user\", \"content\": user_prompt_for(website)}\n",
    "    ]"
   ]
  },
  {
   "cell_type": "code",
   "execution_count": 9,
   "id": "2ed0d8c1-f739-428f-bacd-23f9f5bb9a5c",
   "metadata": {},
   "outputs": [],
   "source": [
    "# Summarize a single website\n",
    "def summarize(url):\n",
    "    try:\n",
    "        website = Website(url)\n",
    "        response = openai.chat.completions.create(\n",
    "            model=\"gpt-4o-mini\",\n",
    "            messages=messages_for(website)\n",
    "        )\n",
    "        return response.choices[0].message.content\n",
    "    except Exception as e:\n",
    "        return f\"Error summarizing {url}: {e}\""
   ]
  },
  {
   "cell_type": "code",
   "execution_count": 10,
   "id": "ec0b5ace-3cf7-4dd4-a8dc-6af46e64a733",
   "metadata": {},
   "outputs": [],
   "source": [
    "# Display summary for a single URL\n",
    "def display_summary(url):\n",
    "    summary = summarize(url)\n",
    "    display(Markdown(f\"## Summary for {url}\\n\\n{summary}\"))\n"
   ]
  },
  {
   "cell_type": "code",
   "execution_count": 11,
   "id": "c206ffcb-8363-482a-a012-3c6849693ae9",
   "metadata": {},
   "outputs": [],
   "source": [
    "# Summarize multiple URLs\n",
    "def display_summaries(urls):\n",
    "    for url in urls:\n",
    "        display_summary(url)"
   ]
  },
  {
   "cell_type": "code",
   "execution_count": 12,
   "id": "fee01522-320f-4077-a239-5817dc934671",
   "metadata": {},
   "outputs": [],
   "source": [
    "# List of URLs\n",
    "urls = [\n",
    "    \"https://edwarddonner.com\",\n",
    "    \"https://cnn.com\"\n",
    "]"
   ]
  },
  {
   "cell_type": "code",
   "execution_count": 13,
   "id": "5e59b496-9f4c-43ec-8121-d8d97d008405",
   "metadata": {},
   "outputs": [
    {
     "data": {
      "text/markdown": [
       "## Summary for https://edwarddonner.com\n",
       "\n",
       "# Summary of Edward Donner's Website\n",
       "\n",
       "The website features Ed Donner, a developer and AI enthusiast, who expresses a keen interest in coding and experimenting with large language models (LLMs). He is the co-founder and CTO of Nebula.io, which aims to leverage AI in talent discovery and management. Previously, he founded an AI startup, untapt, which was acquired in 2021. The site includes a section called \"Outsmart,\" presenting an LLM arena that focuses on diplomatic challenges and strategic gameplay.\n",
       "\n",
       "## Recent Posts\n",
       "- **November 13, 2024**: Resources for mastering AI and LLM engineering.\n",
       "- **October 16, 2024**: Resources for transitioning from a software engineer to an AI data scientist.\n",
       "- **August 6, 2024**: Overview of the Outsmart LLM arena.\n",
       "- **June 26, 2024**: Guidance on selecting the right LLM with recommended toolkits and resources. \n",
       "\n",
       "Ed encourages connections and collaborations related to AI and LLMs."
      ],
      "text/plain": [
       "<IPython.core.display.Markdown object>"
      ]
     },
     "metadata": {},
     "output_type": "display_data"
    },
    {
     "data": {
      "text/markdown": [
       "## Summary for https://cnn.com\n",
       "\n",
       "# CNN News Summary\n",
       "\n",
       "CNN is a global news platform providing the latest headlines and reports across various topics, including US and world news, politics, business, health, entertainment, and technology. The site features extensive coverage of current events, including:\n",
       "\n",
       "- **Syria**: The regime of Bashar al-Assad has reportedly fallen after decades, with swift victories by Syrian rebels. Live updates indicate ongoing strikes in Damascus and celebratory demonstrations following the regime's collapse.\n",
       "- **US Politics**: Former President Trump faces increasing scrutiny and discusses potential actions related to previous immigration policies and the January 6th incident, calling for jail time for specific committee members.\n",
       "- **International Affairs**: South Korea has imposed travel restrictions on its president amid an expanding insurrection investigation. \n",
       "\n",
       "Additionally, the site explores human-interest stories, including a feature on CNN's Hero of the Year who provides fostering services for dogs while their owners seek addiction treatment. Other significant reports include discussions on health issues, celebrity news, and global business matters. \n",
       "\n",
       "Overall, CNN serves as a comprehensive source for breaking news and in-depth analysis across numerous subjects and events happening globally."
      ],
      "text/plain": [
       "<IPython.core.display.Markdown object>"
      ]
     },
     "metadata": {},
     "output_type": "display_data"
    }
   ],
   "source": [
    "# Run the summarization\n",
    "display_summaries(urls)"
   ]
  },
  {
   "cell_type": "code",
   "execution_count": null,
   "id": "381400c2-4899-4bea-a242-25a09d0448e0",
   "metadata": {},
   "outputs": [],
   "source": []
  }
 ],
 "metadata": {
  "kernelspec": {
   "display_name": "Python 3 (ipykernel)",
   "language": "python",
   "name": "python3"
  },
  "language_info": {
   "codemirror_mode": {
    "name": "ipython",
    "version": 3
   },
   "file_extension": ".py",
   "mimetype": "text/x-python",
   "name": "python",
   "nbconvert_exporter": "python",
   "pygments_lexer": "ipython3",
   "version": "3.11.11"
  }
 },
 "nbformat": 4,
 "nbformat_minor": 5
}
